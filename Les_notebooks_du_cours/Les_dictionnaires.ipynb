{
 "cells": [
  {
   "cell_type": "code",
   "execution_count": 1,
   "metadata": {},
   "outputs": [],
   "source": [
    "mon_dictionnaire={\n",
    "    \"Marie\" : 15,\n",
    "    \"Thomas\" : 12,\n",
    "    \"Julien\" : \"absent\",\n",
    "    \"Elise\" : 9,\n",
    "    \"Samuel\" : 17\n",
    "}"
   ]
  },
  {
   "cell_type": "code",
   "execution_count": 2,
   "metadata": {},
   "outputs": [
    {
     "data": {
      "text/plain": [
       "{'Marie': 15, 'Thomas': 12, 'Julien': 'absent', 'Elise': 9, 'Samuel': 17}"
      ]
     },
     "execution_count": 2,
     "metadata": {},
     "output_type": "execute_result"
    }
   ],
   "source": [
    "mon_dictionnaire"
   ]
  },
  {
   "cell_type": "code",
   "execution_count": 3,
   "metadata": {},
   "outputs": [
    {
     "data": {
      "text/plain": [
       "17"
      ]
     },
     "execution_count": 3,
     "metadata": {},
     "output_type": "execute_result"
    }
   ],
   "source": [
    "mon_dictionnaire[\"Samuel\"]"
   ]
  },
  {
   "cell_type": "code",
   "execution_count": 4,
   "metadata": {},
   "outputs": [
    {
     "name": "stdout",
     "output_type": "stream",
     "text": [
      "{'Marie': 15, 'Thomas': 12, 'Julien': 'absent', 'Elise': 9, 'Samuel': 17, 'Julie': 9}\n"
     ]
    }
   ],
   "source": [
    "mon_dictionnaire[\"Julie\"]=9\n",
    "print(mon_dictionnaire)"
   ]
  },
  {
   "cell_type": "code",
   "execution_count": 5,
   "metadata": {},
   "outputs": [
    {
     "name": "stdout",
     "output_type": "stream",
     "text": [
      "{'Marie': 15, 'Thomas': 12, 'Julien': 13, 'Elise': 9, 'Samuel': 17, 'Julie': 9}\n"
     ]
    }
   ],
   "source": [
    "mon_dictionnaire[\"Julien\"]=13\n",
    "print(mon_dictionnaire)"
   ]
  },
  {
   "cell_type": "code",
   "execution_count": 6,
   "metadata": {},
   "outputs": [
    {
     "name": "stdout",
     "output_type": "stream",
     "text": [
      "{'Marie': 15, 'Thomas': 12, 'Julien': 16, 'Elise': 9, 'Samuel': 17, 'Julie': 9}\n"
     ]
    }
   ],
   "source": [
    "mon_dictionnaire[\"Julien\"]=16\n",
    "print(mon_dictionnaire)"
   ]
  },
  {
   "cell_type": "code",
   "execution_count": 7,
   "metadata": {},
   "outputs": [],
   "source": [
    "del mon_dictionnaire[\"Julie\"]"
   ]
  },
  {
   "cell_type": "code",
   "execution_count": 14,
   "metadata": {},
   "outputs": [
    {
     "name": "stdout",
     "output_type": "stream",
     "text": [
      "{'Marie': 15, 'Thomas': 12, 'Julien': 16, 'Elise': 9, 'Samuel': 17}\n"
     ]
    }
   ],
   "source": [
    "print(mon_dictionnaire)"
   ]
  },
  {
   "cell_type": "code",
   "execution_count": 15,
   "metadata": {},
   "outputs": [
    {
     "data": {
      "text/plain": [
       "dict_keys(['Marie', 'Thomas', 'Julien', 'Elise', 'Samuel'])"
      ]
     },
     "execution_count": 15,
     "metadata": {},
     "output_type": "execute_result"
    }
   ],
   "source": [
    "mon_dictionnaire.keys()"
   ]
  },
  {
   "cell_type": "code",
   "execution_count": 16,
   "metadata": {},
   "outputs": [
    {
     "data": {
      "text/plain": [
       "dict_values([15, 12, 16, 9, 17])"
      ]
     },
     "execution_count": 16,
     "metadata": {},
     "output_type": "execute_result"
    }
   ],
   "source": [
    "mon_dictionnaire.values()"
   ]
  },
  {
   "cell_type": "code",
   "execution_count": 17,
   "metadata": {},
   "outputs": [
    {
     "name": "stdout",
     "output_type": "stream",
     "text": [
      "Marie\n",
      "Thomas\n",
      "Julien\n",
      "Elise\n",
      "Samuel\n"
     ]
    }
   ],
   "source": [
    "for cle in mon_dictionnaire.keys():\n",
    "    print(cle)"
   ]
  },
  {
   "cell_type": "code",
   "execution_count": 18,
   "metadata": {},
   "outputs": [
    {
     "name": "stdout",
     "output_type": "stream",
     "text": [
      "15\n",
      "12\n",
      "16\n",
      "9\n",
      "17\n"
     ]
    }
   ],
   "source": [
    "for valeur in mon_dictionnaire.values():\n",
    "    print(valeur)"
   ]
  },
  {
   "cell_type": "code",
   "execution_count": 19,
   "metadata": {},
   "outputs": [
    {
     "data": {
      "text/plain": [
       "dict_items([('Marie', 15), ('Thomas', 12), ('Julien', 16), ('Elise', 9), ('Samuel', 17)])"
      ]
     },
     "execution_count": 19,
     "metadata": {},
     "output_type": "execute_result"
    }
   ],
   "source": [
    "mon_dictionnaire.items()"
   ]
  },
  {
   "cell_type": "code",
   "execution_count": 20,
   "metadata": {},
   "outputs": [
    {
     "name": "stdout",
     "output_type": "stream",
     "text": [
      "Marie 15\n",
      "Thomas 12\n",
      "Julien 16\n",
      "Elise 9\n",
      "Samuel 17\n"
     ]
    }
   ],
   "source": [
    "for cle,valeur in mon_dictionnaire.items():\n",
    "    print(cle,valeur)"
   ]
  },
  {
   "cell_type": "code",
   "execution_count": 21,
   "metadata": {},
   "outputs": [],
   "source": [
    "notes_eleves={\n",
    "    \"Marie\" : 15,\n",
    "    \"Samuel\" : 17,\n",
    "    \"Gaston\" : 12,\n",
    "    \"Fred\" : 10,\n",
    "    \"Mae\" : 5,\n",
    "    \"Julie\" : 15,\n",
    "    \"Zoe\" : 7,\n",
    "    \"Claire\" : 20,\n",
    "    \"Chloe\" : 8,\n",
    "    \"Julien\" : 14,\n",
    "    \"Gaël\" : 9,\n",
    "    \"Samia\" : 15,\n",
    "    \"Omar\" : 11,\n",
    "    \"Gabriel\" : 16,\n",
    "    \"Manon\" : 2\n",
    "}"
   ]
  },
  {
   "cell_type": "code",
   "execution_count": 26,
   "metadata": {
    "scrolled": false
   },
   "outputs": [
    {
     "data": {
      "text/plain": [
       "[15, 17, 12, 10, 5, 15, 7, 20, 8, 14, 9, 15, 11, 16, 2]"
      ]
     },
     "execution_count": 26,
     "metadata": {},
     "output_type": "execute_result"
    }
   ],
   "source": [
    "list(notes_eleves.values())"
   ]
  },
  {
   "cell_type": "code",
   "execution_count": 27,
   "metadata": {},
   "outputs": [],
   "source": [
    "# 1. Quelle est la moyenne générale de la classe ?\n",
    "import numpy\n",
    "moyenne_generale=numpy.mean(list(notes_eleves.values()))"
   ]
  },
  {
   "cell_type": "code",
   "execution_count": 28,
   "metadata": {},
   "outputs": [
    {
     "data": {
      "text/plain": [
       "11.733333333333333"
      ]
     },
     "execution_count": 28,
     "metadata": {},
     "output_type": "execute_result"
    }
   ],
   "source": [
    "moyenne_generale"
   ]
  },
  {
   "cell_type": "code",
   "execution_count": 29,
   "metadata": {},
   "outputs": [
    {
     "name": "stdout",
     "output_type": "stream",
     "text": [
      "Le nombre d'élèves dans la classe est de 15\n"
     ]
    }
   ],
   "source": [
    "# 2. Afficher le nombre total d'élèves dans la classe\n",
    "nombre_eleves=len(notes_eleves)\n",
    "print(\"Le nombre d'élèves dans la classe est de %d\" % (nombre_eleves))"
   ]
  },
  {
   "cell_type": "code",
   "execution_count": 31,
   "metadata": {},
   "outputs": [
    {
     "data": {
      "text/plain": [
       "15"
      ]
     },
     "execution_count": 31,
     "metadata": {},
     "output_type": "execute_result"
    }
   ],
   "source": [
    "len(notes_eleves.keys())"
   ]
  },
  {
   "cell_type": "code",
   "execution_count": 33,
   "metadata": {},
   "outputs": [
    {
     "name": "stdout",
     "output_type": "stream",
     "text": [
      "Le nombre d'élèves avec une note supérieure à 11.73 est de 8 élèves\n"
     ]
    }
   ],
   "source": [
    "# 3. Combien d'élèves ont une note strictement supérieure à la moyenne de la classe ?\n",
    "nombre_eleves_avec_note_sup_moyenne=0\n",
    "for valeur in notes_eleves.values():\n",
    "    if valeur > moyenne_generale:\n",
    "        nombre_eleves_avec_note_sup_moyenne=nombre_eleves_avec_note_sup_moyenne+1\n",
    "print(\"Le nombre d'élèves avec une note supérieure à %.2f est de %d élèves\" % (moyenne_generale, nombre_eleves_avec_note_sup_moyenne))"
   ]
  },
  {
   "cell_type": "code",
   "execution_count": 34,
   "metadata": {},
   "outputs": [],
   "source": [
    "# 4. Quel est le prénom du meilleur élève de la classe ?\n",
    "meilleure_note=max(notes_eleves.values())"
   ]
  },
  {
   "cell_type": "code",
   "execution_count": 35,
   "metadata": {},
   "outputs": [
    {
     "data": {
      "text/plain": [
       "20"
      ]
     },
     "execution_count": 35,
     "metadata": {},
     "output_type": "execute_result"
    }
   ],
   "source": [
    "meilleure_note"
   ]
  },
  {
   "cell_type": "code",
   "execution_count": 36,
   "metadata": {},
   "outputs": [
    {
     "name": "stdout",
     "output_type": "stream",
     "text": [
      "Claire\n"
     ]
    }
   ],
   "source": [
    "for prenom,note in notes_eleves.items():\n",
    "    if note == meilleure_note:\n",
    "        print(prenom)"
   ]
  },
  {
   "cell_type": "code",
   "execution_count": 38,
   "metadata": {},
   "outputs": [
    {
     "name": "stdout",
     "output_type": "stream",
     "text": [
      "2\n"
     ]
    }
   ],
   "source": [
    "# 5. Combien d'élèves ont un prénom avec strictement moins de 4 lettres ?\n",
    "nombre_eleves=0\n",
    "for prenom in notes_eleves.keys():\n",
    "    if len(prenom) < 4:\n",
    "        nombre_eleves=nombre_eleves+1\n",
    "print(nombre_eleves)"
   ]
  },
  {
   "cell_type": "code",
   "execution_count": 41,
   "metadata": {},
   "outputs": [
    {
     "name": "stdout",
     "output_type": "stream",
     "text": [
      "Gaston 12\n",
      "Fred 10\n",
      "Claire 20\n",
      "Chloe 8\n",
      "Julien 14\n",
      "Gabriel 16\n",
      "Manon 2\n"
     ]
    }
   ],
   "source": [
    "# 6. Afficher les prénoms des élèves qui ont une note paire.\n",
    "for prenom,note in notes_eleves.items():\n",
    "    if note % 2 == 0:\n",
    "        print(prenom, note)"
   ]
  },
  {
   "cell_type": "code",
   "execution_count": null,
   "metadata": {},
   "outputs": [],
   "source": []
  }
 ],
 "metadata": {
  "kernelspec": {
   "display_name": "Python 3",
   "language": "python",
   "name": "python3"
  },
  "language_info": {
   "codemirror_mode": {
    "name": "ipython",
    "version": 3
   },
   "file_extension": ".py",
   "mimetype": "text/x-python",
   "name": "python",
   "nbconvert_exporter": "python",
   "pygments_lexer": "ipython3",
   "version": "3.7.0"
  }
 },
 "nbformat": 4,
 "nbformat_minor": 2
}
