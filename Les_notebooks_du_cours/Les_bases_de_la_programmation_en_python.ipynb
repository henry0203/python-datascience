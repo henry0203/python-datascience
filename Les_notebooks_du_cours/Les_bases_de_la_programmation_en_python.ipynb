{
 "cells": [
  {
   "cell_type": "code",
   "execution_count": 1,
   "metadata": {},
   "outputs": [
    {
     "data": {
      "text/plain": [
       "True"
      ]
     },
     "execution_count": 1,
     "metadata": {},
     "output_type": "execute_result"
    }
   ],
   "source": [
    "# premier opérateur de comparaison : ==\n",
    "1 == 1"
   ]
  },
  {
   "cell_type": "code",
   "execution_count": 2,
   "metadata": {},
   "outputs": [
    {
     "data": {
      "text/plain": [
       "False"
      ]
     },
     "execution_count": 2,
     "metadata": {},
     "output_type": "execute_result"
    }
   ],
   "source": [
    "1==2"
   ]
  },
  {
   "cell_type": "code",
   "execution_count": 3,
   "metadata": {},
   "outputs": [
    {
     "data": {
      "text/plain": [
       "True"
      ]
     },
     "execution_count": 3,
     "metadata": {},
     "output_type": "execute_result"
    }
   ],
   "source": [
    "# 2ème opérateur de comparaison : !=\n",
    "1!=2"
   ]
  },
  {
   "cell_type": "code",
   "execution_count": 4,
   "metadata": {},
   "outputs": [
    {
     "data": {
      "text/plain": [
       "False"
      ]
     },
     "execution_count": 4,
     "metadata": {},
     "output_type": "execute_result"
    }
   ],
   "source": [
    "# 3ème opérateur de comparaison : >\n",
    "1>2"
   ]
  },
  {
   "cell_type": "code",
   "execution_count": 5,
   "metadata": {},
   "outputs": [
    {
     "data": {
      "text/plain": [
       "True"
      ]
     },
     "execution_count": 5,
     "metadata": {},
     "output_type": "execute_result"
    }
   ],
   "source": [
    "2>1"
   ]
  },
  {
   "cell_type": "code",
   "execution_count": 6,
   "metadata": {},
   "outputs": [
    {
     "data": {
      "text/plain": [
       "False"
      ]
     },
     "execution_count": 6,
     "metadata": {},
     "output_type": "execute_result"
    }
   ],
   "source": [
    "1>1"
   ]
  },
  {
   "cell_type": "code",
   "execution_count": 7,
   "metadata": {},
   "outputs": [
    {
     "data": {
      "text/plain": [
       "True"
      ]
     },
     "execution_count": 7,
     "metadata": {},
     "output_type": "execute_result"
    }
   ],
   "source": [
    "1<2"
   ]
  },
  {
   "cell_type": "code",
   "execution_count": 8,
   "metadata": {},
   "outputs": [
    {
     "data": {
      "text/plain": [
       "True"
      ]
     },
     "execution_count": 8,
     "metadata": {},
     "output_type": "execute_result"
    }
   ],
   "source": [
    "1>=1"
   ]
  },
  {
   "cell_type": "code",
   "execution_count": 9,
   "metadata": {},
   "outputs": [
    {
     "data": {
      "text/plain": [
       "True"
      ]
     },
     "execution_count": 9,
     "metadata": {},
     "output_type": "execute_result"
    }
   ],
   "source": [
    "2 <= 5"
   ]
  },
  {
   "cell_type": "code",
   "execution_count": 10,
   "metadata": {},
   "outputs": [],
   "source": [
    "a=1"
   ]
  },
  {
   "cell_type": "code",
   "execution_count": 11,
   "metadata": {},
   "outputs": [
    {
     "data": {
      "text/plain": [
       "True"
      ]
     },
     "execution_count": 11,
     "metadata": {},
     "output_type": "execute_result"
    }
   ],
   "source": [
    "# premier opérateur logique : and\n",
    "(3==3) and (4==4)"
   ]
  },
  {
   "cell_type": "code",
   "execution_count": 12,
   "metadata": {},
   "outputs": [
    {
     "data": {
      "text/plain": [
       "False"
      ]
     },
     "execution_count": 12,
     "metadata": {},
     "output_type": "execute_result"
    }
   ],
   "source": [
    "(3==3) and (4==5)"
   ]
  },
  {
   "cell_type": "code",
   "execution_count": 13,
   "metadata": {},
   "outputs": [
    {
     "data": {
      "text/plain": [
       "True"
      ]
     },
     "execution_count": 13,
     "metadata": {},
     "output_type": "execute_result"
    }
   ],
   "source": [
    "# deuxième opérateur logique : or\n",
    "(3==3) or (4==5)"
   ]
  },
  {
   "cell_type": "code",
   "execution_count": 14,
   "metadata": {},
   "outputs": [
    {
     "data": {
      "text/plain": [
       "False"
      ]
     },
     "execution_count": 14,
     "metadata": {},
     "output_type": "execute_result"
    }
   ],
   "source": [
    "(3!=3) or (4==5)"
   ]
  },
  {
   "cell_type": "code",
   "execution_count": 15,
   "metadata": {},
   "outputs": [
    {
     "data": {
      "text/plain": [
       "True"
      ]
     },
     "execution_count": 15,
     "metadata": {},
     "output_type": "execute_result"
    }
   ],
   "source": [
    "# 3ème opérateur logique : not\n",
    "not((3!=3) or (4==5))"
   ]
  },
  {
   "cell_type": "code",
   "execution_count": 16,
   "metadata": {},
   "outputs": [],
   "source": [
    "# instruction de condition if\n",
    "# if condition:\n",
    "# action 1\n",
    "# else:\n",
    "# action 2"
   ]
  },
  {
   "cell_type": "code",
   "execution_count": 17,
   "metadata": {},
   "outputs": [],
   "source": [
    "ma_variable1=2\n",
    "ma_variable2=6\n",
    "ma_variable3=\"hello\""
   ]
  },
  {
   "cell_type": "code",
   "execution_count": 18,
   "metadata": {},
   "outputs": [
    {
     "name": "stdout",
     "output_type": "stream",
     "text": [
      "Ta comparaison est vraie !\n"
     ]
    }
   ],
   "source": [
    "if (ma_variable1 == 2 ) and (ma_variable3 == \"hello\"):\n",
    "    print(\"Ta comparaison est vraie !\")\n",
    "else:\n",
    "    print(\"Ta comparaison est fausse !\")"
   ]
  },
  {
   "cell_type": "code",
   "execution_count": 19,
   "metadata": {},
   "outputs": [
    {
     "ename": "IndentationError",
     "evalue": "expected an indented block (<ipython-input-19-6e28bb8a49ca>, line 4)",
     "output_type": "error",
     "traceback": [
      "\u001b[1;36m  File \u001b[1;32m\"<ipython-input-19-6e28bb8a49ca>\"\u001b[1;36m, line \u001b[1;32m4\u001b[0m\n\u001b[1;33m    print(\"Ta comparaison est fausse !\")\u001b[0m\n\u001b[1;37m        ^\u001b[0m\n\u001b[1;31mIndentationError\u001b[0m\u001b[1;31m:\u001b[0m expected an indented block\n"
     ]
    }
   ],
   "source": [
    "if (ma_variable1 == 2 ) and (ma_variable3 == \"hello\"):\n",
    "    print(\"Ta comparaison est vraie !\")\n",
    "else:\n",
    "print(\"Ta comparaison est fausse !\")"
   ]
  },
  {
   "cell_type": "code",
   "execution_count": 21,
   "metadata": {},
   "outputs": [
    {
     "name": "stdout",
     "output_type": "stream",
     "text": [
      "Ta comparaison est vraie !\n"
     ]
    }
   ],
   "source": [
    "if (ma_variable1 > ma_variable2) or (ma_variable3 == \"hello\"):\n",
    "    print(\"Ta comparaison est vraie !\")\n",
    "else:\n",
    "    print(\"Ta comparaison est fausse !\")"
   ]
  },
  {
   "cell_type": "code",
   "execution_count": 22,
   "metadata": {},
   "outputs": [
    {
     "name": "stdout",
     "output_type": "stream",
     "text": [
      "Ta comparaison est fausse !\n"
     ]
    }
   ],
   "source": [
    "if (ma_variable1 > ma_variable2) and (ma_variable3 == \"hello\"):\n",
    "    print(\"Ta comparaison est vraie !\")\n",
    "else:\n",
    "    print(\"Ta comparaison est fausse !\")"
   ]
  },
  {
   "cell_type": "code",
   "execution_count": 31,
   "metadata": {},
   "outputs": [],
   "source": [
    "# boucle for \n",
    "# for ma_valeur in liste:\n",
    "# blocs d'actions"
   ]
  },
  {
   "cell_type": "code",
   "execution_count": 32,
   "metadata": {},
   "outputs": [],
   "source": [
    "ma_liste=[1,2,3,4,5,6,7,8,9,10]"
   ]
  },
  {
   "cell_type": "code",
   "execution_count": 34,
   "metadata": {},
   "outputs": [
    {
     "name": "stdout",
     "output_type": "stream",
     "text": [
      "2\n",
      "---\n",
      "4\n",
      "---\n",
      "6\n",
      "---\n",
      "8\n",
      "---\n",
      "10\n",
      "---\n",
      "12\n",
      "---\n",
      "14\n",
      "---\n",
      "16\n",
      "---\n",
      "18\n",
      "---\n",
      "20\n",
      "---\n"
     ]
    }
   ],
   "source": [
    "for ma_valeur in ma_liste:\n",
    "    print(ma_valeur*2)\n",
    "    print(\"---\")"
   ]
  },
  {
   "cell_type": "code",
   "execution_count": 35,
   "metadata": {},
   "outputs": [
    {
     "name": "stdout",
     "output_type": "stream",
     "text": [
      "La multiplication de 2 * 1 = 2\n",
      "La multiplication de 2 * 2 = 4\n",
      "La multiplication de 2 * 3 = 6\n",
      "La multiplication de 2 * 4 = 8\n",
      "La multiplication de 2 * 5 = 10\n",
      "La multiplication de 2 * 6 = 12\n",
      "La multiplication de 2 * 7 = 14\n",
      "La multiplication de 2 * 8 = 16\n",
      "La multiplication de 2 * 9 = 18\n",
      "La multiplication de 2 * 10 = 20\n"
     ]
    }
   ],
   "source": [
    "for ma_valeur in ma_liste:\n",
    "    ma_nouvelle_variable=ma_valeur*2\n",
    "    print(\"La multiplication de 2 * %d = %d\" % (ma_valeur,ma_nouvelle_variable))"
   ]
  },
  {
   "cell_type": "code",
   "execution_count": 36,
   "metadata": {},
   "outputs": [],
   "source": [
    "# boucle while\n",
    "# while condition:\n",
    "# bloc d'actions"
   ]
  },
  {
   "cell_type": "code",
   "execution_count": 37,
   "metadata": {},
   "outputs": [
    {
     "name": "stdout",
     "output_type": "stream",
     "text": [
      "Mon compteur = 0\n",
      "Ma valeur = 1\n",
      "Mon compteur = 1\n",
      "Ma valeur = 2\n",
      "Mon compteur = 2\n",
      "Ma valeur = 3\n",
      "Mon compteur = 3\n",
      "Ma valeur = 4\n",
      "Mon compteur = 4\n",
      "Ma valeur = 5\n",
      "Mon compteur = 5\n",
      "Ma valeur = 6\n",
      "Mon compteur = 6\n",
      "Ma valeur = 7\n",
      "Mon compteur = 7\n",
      "Ma valeur = 8\n",
      "Mon compteur = 8\n",
      "Ma valeur = 9\n",
      "Mon compteur = 9\n",
      "Ma valeur = 10\n"
     ]
    }
   ],
   "source": [
    "compteur=0\n",
    "while (compteur < 10):\n",
    "    print(\"Mon compteur = %d\" % (compteur))\n",
    "    print(\"Ma valeur = %d\" % (ma_liste[compteur]))\n",
    "    compteur=compteur+1"
   ]
  },
  {
   "cell_type": "code",
   "execution_count": 41,
   "metadata": {},
   "outputs": [
    {
     "name": "stdout",
     "output_type": "stream",
     "text": [
      "Mon compteur = 1\n",
      "Ma valeur = 2\n",
      "Mon compteur = 3\n",
      "Ma valeur = 4\n",
      "Mon compteur = 5\n",
      "Ma valeur = 6\n",
      "Mon compteur = 7\n",
      "Ma valeur = 8\n",
      "Mon compteur = 9\n",
      "Ma valeur = 10\n",
      "5\n"
     ]
    }
   ],
   "source": [
    "compteur=0\n",
    "compteur_resultat_vrai=0\n",
    "while (compteur < 10):\n",
    "    if ma_liste[compteur] % 2 == 0:\n",
    "        print(\"Mon compteur = %d\" % (compteur))\n",
    "        print(\"Ma valeur = %d\" % (ma_liste[compteur]))\n",
    "        compteur_resultat_vrai=compteur_resultat_vrai+1\n",
    "    compteur=compteur+1\n",
    "print(compteur_resultat_vrai)"
   ]
  },
  {
   "cell_type": "code",
   "execution_count": 42,
   "metadata": {},
   "outputs": [],
   "source": [
    "prix_de_58_maisons=list(range(125000,700000,10000))"
   ]
  },
  {
   "cell_type": "code",
   "execution_count": 43,
   "metadata": {},
   "outputs": [
    {
     "data": {
      "text/plain": [
       "[125000,\n",
       " 135000,\n",
       " 145000,\n",
       " 155000,\n",
       " 165000,\n",
       " 175000,\n",
       " 185000,\n",
       " 195000,\n",
       " 205000,\n",
       " 215000,\n",
       " 225000,\n",
       " 235000,\n",
       " 245000,\n",
       " 255000,\n",
       " 265000,\n",
       " 275000,\n",
       " 285000,\n",
       " 295000,\n",
       " 305000,\n",
       " 315000,\n",
       " 325000,\n",
       " 335000,\n",
       " 345000,\n",
       " 355000,\n",
       " 365000,\n",
       " 375000,\n",
       " 385000,\n",
       " 395000,\n",
       " 405000,\n",
       " 415000,\n",
       " 425000,\n",
       " 435000,\n",
       " 445000,\n",
       " 455000,\n",
       " 465000,\n",
       " 475000,\n",
       " 485000,\n",
       " 495000,\n",
       " 505000,\n",
       " 515000,\n",
       " 525000,\n",
       " 535000,\n",
       " 545000,\n",
       " 555000,\n",
       " 565000,\n",
       " 575000,\n",
       " 585000,\n",
       " 595000,\n",
       " 605000,\n",
       " 615000,\n",
       " 625000,\n",
       " 635000,\n",
       " 645000,\n",
       " 655000,\n",
       " 665000,\n",
       " 675000,\n",
       " 685000,\n",
       " 695000]"
      ]
     },
     "execution_count": 43,
     "metadata": {},
     "output_type": "execute_result"
    }
   ],
   "source": [
    "prix_de_58_maisons"
   ]
  },
  {
   "cell_type": "code",
   "execution_count": 44,
   "metadata": {},
   "outputs": [
    {
     "data": {
      "text/plain": [
       "58"
      ]
     },
     "execution_count": 44,
     "metadata": {},
     "output_type": "execute_result"
    }
   ],
   "source": [
    "len(prix_de_58_maisons)"
   ]
  },
  {
   "cell_type": "code",
   "execution_count": 45,
   "metadata": {},
   "outputs": [
    {
     "name": "stdout",
     "output_type": "stream",
     "text": [
      "Le nombre de maisons avec un prix supérieur ou égal à 300000 euros est de : 40\n"
     ]
    }
   ],
   "source": [
    "# 1. Combien de maisons ont un prix supérieur à 300000 euros ?\n",
    "# définir notre compteur\n",
    "nombre_maisons=0\n",
    "for prix in prix_de_58_maisons:\n",
    "    if prix >= 300000:\n",
    "        nombre_maisons=nombre_maisons+1\n",
    "print(\"Le nombre de maisons avec un prix supérieur ou égal à 300000 euros est de : %d\" % (nombre_maisons))"
   ]
  },
  {
   "cell_type": "code",
   "execution_count": 46,
   "metadata": {},
   "outputs": [
    {
     "name": "stdout",
     "output_type": "stream",
     "text": [
      "Le nombre de maisons qui ont un prix compris entre 250000 et 400000 euros est de : 15\n"
     ]
    }
   ],
   "source": [
    "# 2. Combien de maisons ont un prix compris entre 250000 et 400000 euros ?\n",
    "nombre_maisons=0\n",
    "for prix in prix_de_58_maisons:\n",
    "    if (prix >= 250000) and (prix <= 400000):\n",
    "        nombre_maisons=nombre_maisons+1\n",
    "print(\"Le nombre de maisons qui ont un prix compris entre 250000 et 400000 euros est de : %d\" % (nombre_maisons))"
   ]
  },
  {
   "cell_type": "code",
   "execution_count": 47,
   "metadata": {},
   "outputs": [
    {
     "name": "stdout",
     "output_type": "stream",
     "text": [
      "Le nombre de maisons qui ont un prix qui n'est pas supérieur à 600000 euros est de : 48\n"
     ]
    }
   ],
   "source": [
    "# 3. Combien de maisons ont un prix qui n'est pas supérieur à 600000 euros ?\n",
    "nombre_maisons=0\n",
    "for prix in prix_de_58_maisons:\n",
    "    if not(prix > 600000):\n",
    "        nombre_maisons=nombre_maisons+1\n",
    "print(\"Le nombre de maisons qui ont un prix qui n'est pas supérieur à 600000 euros est de : %d\" % (nombre_maisons))"
   ]
  },
  {
   "cell_type": "code",
   "execution_count": 48,
   "metadata": {},
   "outputs": [
    {
     "name": "stdout",
     "output_type": "stream",
     "text": [
      "Le nombre de maisons qui ont un prix inférieur à 150000 euros OU supérieur à 650000 euros est de : 8\n"
     ]
    }
   ],
   "source": [
    "# 4. Combien de maisons ont un prix inférieur à 150000 euros OU supérieur à 650000 euros ?\n",
    "nombre_maisons=0\n",
    "for prix in prix_de_58_maisons:\n",
    "    if (prix < 150000) or (prix > 650000):\n",
    "        nombre_maisons=nombre_maisons+1\n",
    "print(\"Le nombre de maisons qui ont un prix inférieur à 150000 euros OU supérieur à 650000 euros est de : %d\" % (nombre_maisons))"
   ]
  },
  {
   "cell_type": "code",
   "execution_count": 49,
   "metadata": {},
   "outputs": [],
   "source": [
    "# fonction en python\n",
    "# def ma_fonction(argument1, argument2, ...):\n",
    "# code\n",
    "# code\n",
    "# resultat = code\n",
    "# return resultat"
   ]
  },
  {
   "cell_type": "code",
   "execution_count": 50,
   "metadata": {},
   "outputs": [],
   "source": [
    "def nombre_de_maisons_avec_prix_superieur_a_300000_euros(une_liste):\n",
    "    nombre_maisons=0\n",
    "    for prix in une_liste:\n",
    "        if prix >= 300000:\n",
    "            nombre_maisons=nombre_maisons+1\n",
    "    return nombre_maisons"
   ]
  },
  {
   "cell_type": "code",
   "execution_count": 51,
   "metadata": {},
   "outputs": [
    {
     "ename": "NameError",
     "evalue": "name 'nombre_de_maisons_avec_un_prix_superieur_a_300000_euros' is not defined",
     "output_type": "error",
     "traceback": [
      "\u001b[1;31m---------------------------------------------------------------------------\u001b[0m",
      "\u001b[1;31mNameError\u001b[0m                                 Traceback (most recent call last)",
      "\u001b[1;32m<ipython-input-51-9422269efdf2>\u001b[0m in \u001b[0;36m<module>\u001b[1;34m()\u001b[0m\n\u001b[1;32m----> 1\u001b[1;33m \u001b[0mnombre_maisons\u001b[0m\u001b[1;33m=\u001b[0m\u001b[0mnombre_de_maisons_avec_un_prix_superieur_a_300000_euros\u001b[0m\u001b[1;33m(\u001b[0m\u001b[0mprix_de_58_maisons\u001b[0m\u001b[1;33m)\u001b[0m\u001b[1;33m\u001b[0m\u001b[0m\n\u001b[0m",
      "\u001b[1;31mNameError\u001b[0m: name 'nombre_de_maisons_avec_un_prix_superieur_a_300000_euros' is not defined"
     ]
    }
   ],
   "source": [
    "nombre_maisons=nombre_de_maisons_avec_un_prix_superieur_a_300000_euros(prix_de_58_maisons)"
   ]
  },
  {
   "cell_type": "code",
   "execution_count": 52,
   "metadata": {},
   "outputs": [],
   "source": [
    "nombre_maisons=nombre_de_maisons_avec_prix_superieur_a_300000_euros(prix_de_58_maisons)"
   ]
  },
  {
   "cell_type": "code",
   "execution_count": 53,
   "metadata": {},
   "outputs": [
    {
     "data": {
      "text/plain": [
       "40"
      ]
     },
     "execution_count": 53,
     "metadata": {},
     "output_type": "execute_result"
    }
   ],
   "source": [
    "nombre_maisons"
   ]
  },
  {
   "cell_type": "code",
   "execution_count": 54,
   "metadata": {},
   "outputs": [],
   "source": [
    "def nombre_de_maisons_avec_prix_superieur_a_300000_euros(une_liste):\n",
    "    nombre_maisons=0\n",
    "    nombre_maisons_total=0\n",
    "    for prix in une_liste:\n",
    "        if prix >= 300000:\n",
    "            nombre_maisons=nombre_maisons+1\n",
    "        nombre_maisons_total=nombre_maisons_total+1\n",
    "    return (nombre_maisons,nombre_maisons_total)"
   ]
  },
  {
   "cell_type": "code",
   "execution_count": 56,
   "metadata": {},
   "outputs": [],
   "source": [
    "nombre_maisons_1,nombre_maisons_total=nombre_de_maisons_avec_prix_superieur_a_300000_euros(prix_de_58_maisons)"
   ]
  },
  {
   "cell_type": "code",
   "execution_count": 57,
   "metadata": {},
   "outputs": [
    {
     "name": "stdout",
     "output_type": "stream",
     "text": [
      "40\n",
      "58\n"
     ]
    }
   ],
   "source": [
    "print(nombre_maisons_1)\n",
    "print(nombre_maisons_total)"
   ]
  },
  {
   "cell_type": "code",
   "execution_count": null,
   "metadata": {},
   "outputs": [],
   "source": []
  }
 ],
 "metadata": {
  "kernelspec": {
   "display_name": "Python 3",
   "language": "python",
   "name": "python3"
  },
  "language_info": {
   "codemirror_mode": {
    "name": "ipython",
    "version": 3
   },
   "file_extension": ".py",
   "mimetype": "text/x-python",
   "name": "python",
   "nbconvert_exporter": "python",
   "pygments_lexer": "ipython3",
   "version": "3.7.0"
  }
 },
 "nbformat": 4,
 "nbformat_minor": 2
}
