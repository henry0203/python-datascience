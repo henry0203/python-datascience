{
 "cells": [
  {
   "cell_type": "code",
   "execution_count": 22,
   "metadata": {
    "scrolled": true
   },
   "outputs": [
    {
     "name": "stdout",
     "output_type": "stream",
     "text": [
      "11.55 /  2 /  20 /  [2, 4, 6, 7, 8, 9, 10, 10, 10, 10, 11, 12, 13, 14, 15, 16, 17, 18, 19, 20] /  [20, 19, 18, 17, 16, 15, 14, 13, 12, 11, 10, 10, 10, 10, 9, 8, 7, 6, 4, 2]  / 2  / 4  / 10\n"
     ]
    }
   ],
   "source": [
    "import numpy\n",
    "mes_notes = [19,7,15,9,10,6,18,10,16,14,13,10,2,20,17,8,12,10,11,4]\n",
    "moyenne_general = numpy.mean(mes_notes)\n",
    "min_value = numpy.min(mes_notes)\n",
    "max_value = numpy.max(mes_notes)\n",
    "mes_notes_sorted = sorted(mes_notes) \n",
    "mes_notes.sort()  #doesn't return nothing, just sort the argument list\n",
    "mes_notes.reverse()\n",
    "#mes_notes.count(10:20)\n",
    "sum_notes = sum(1 for i in mes_notes if i > 10)\n",
    "print(moyenne_general, \"/ \", min_value, \"/ \", max_value, \"/ \", mes_notes_sorted, \"/ \", mes_notes, \" /\", mes_notes[-1],\" /\", mes_notes.count(10), \" /\", sum_notes)\n",
    "#help(count)"
   ]
  },
  {
   "cell_type": "code",
   "execution_count": null,
   "metadata": {},
   "outputs": [],
   "source": []
  }
 ],
 "metadata": {
  "kernelspec": {
   "display_name": "Python 3",
   "language": "python",
   "name": "python3"
  },
  "language_info": {
   "codemirror_mode": {
    "name": "ipython",
    "version": 3
   },
   "file_extension": ".py",
   "mimetype": "text/x-python",
   "name": "python",
   "nbconvert_exporter": "python",
   "pygments_lexer": "ipython3",
   "version": "3.7.6"
  }
 },
 "nbformat": 4,
 "nbformat_minor": 4
}
